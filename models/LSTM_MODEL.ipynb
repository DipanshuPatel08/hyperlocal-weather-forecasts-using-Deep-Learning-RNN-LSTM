{
  "cells": [
    {
      "cell_type": "code",
      "source": [
        "import os\n",
        "import pandas as pd\n",
        "import numpy as np\n",
        "import tensorflow as tf\n",
        "from tensorflow.keras.models import Sequential\n",
        "from tensorflow.keras.layers import LSTM, Dense, Dropout, Reshape\n",
        "from tensorflow.keras.callbacks import ModelCheckpoint, EarlyStopping\n",
        "from sklearn.preprocessing import MinMaxScaler\n",
        "import joblib\n",
        "from datetime import datetime\n",
        "import matplotlib.pyplot as plt\n",
        "from sklearn.metrics import mean_absolute_error, mean_squared_error, r2_score\n",
        "from google.colab import files\n",
        "\n",
        "print(f\"TensorFlow Version: {tf.__version__}\")"
      ],
      "metadata": {
        "colab": {
          "base_uri": "https://localhost:8080/"
        },
        "id": "J4YFZA_z-szt",
        "outputId": "b23ce1b0-3d87-485f-cabf-bd68733c0be8"
      },
      "execution_count": 21,
      "outputs": [
        {
          "output_type": "stream",
          "name": "stdout",
          "text": [
            "TensorFlow Version: 2.19.0\n"
          ]
        }
      ]
    },
    {
      "cell_type": "code",
      "source": [
        "# Here, we define the key parameters for our model and data.\n",
        "# - LOOKBACK_WINDOW: How many past time steps the model uses to make a prediction.\n",
        "# - FORECAST_HORIZON: How many future time steps the model will predict.\n",
        "# - MODEL_DIR: The directory where the trained model and scalers will be saved.\n",
        "LOOKBACK_WINDOW = 24  # Using the past 24 hours of data\n",
        "FORECAST_HORIZON = 7  # To predict the next 7 hours/steps\n",
        "MODEL_DIR = 'models/saved_model'\n",
        "DATA_FILE = 'weather_data.csv'\n",
        "EPOCHS = 100\n",
        "\n",
        "# Create the directory to save the model if it doesn't exist\n",
        "os.makedirs(MODEL_DIR, exist_ok=True)\n",
        "\n",
        "print(f\"Configuration loaded:\")\n",
        "print(f\"  - Lookback Window: {LOOKBACK_WINDOW} steps\")\n",
        "print(f\"  - Forecast Horizon: {FORECAST_HORIZON} steps\")\n",
        "print(f\"  - Model Save Directory: {MODEL_DIR}\")"
      ],
      "metadata": {
        "colab": {
          "base_uri": "https://localhost:8080/"
        },
        "id": "QI_Ce0TW-yR9",
        "outputId": "1dee1a22-df24-436a-d100-a6d6b14d0bf2"
      },
      "execution_count": 7,
      "outputs": [
        {
          "output_type": "stream",
          "name": "stdout",
          "text": [
            "Configuration loaded:\n",
            "  - Lookback Window: 24 steps\n",
            "  - Forecast Horizon: 7 steps\n",
            "  - Model Save Directory: models/saved_model\n"
          ]
        }
      ]
    },
    {
      "cell_type": "code",
      "source": [
        "try:\n",
        "    print(\"Please upload your CSV file now. Click 'Choose Files'.\")\n",
        "    uploaded = files.upload()\n",
        "\n",
        "    if DATA_FILE not in uploaded:\n",
        "        print(f\"Error: The file '{DATA_FILE}' was not uploaded. Please try again.\")\n",
        "    else:\n",
        "        df = pd.read_csv(DATA_FILE, parse_dates=['datetime'])\n",
        "        print(\"\\nDataset loaded successfully from uploaded file.\")\n",
        "        print(f\"Dataset shape: {df.shape}\")\n",
        "        print(\"\\nFirst 5 rows of the dataset:\")\n",
        "        print(df.head())\n",
        "        print(\"\\nDataset Info:\")\n",
        "        df.info()\n",
        "except Exception as e:\n",
        "    print(f\"Error: Failed to load dataset. {e}\")"
      ],
      "metadata": {
        "colab": {
          "base_uri": "https://localhost:8080/",
          "height": 862
        },
        "id": "R_teMszO-0A4",
        "outputId": "0e9a34df-3095-4244-f5b8-2df906ee00b6"
      },
      "execution_count": 8,
      "outputs": [
        {
          "output_type": "stream",
          "name": "stdout",
          "text": [
            "Please upload your CSV file now. Click 'Choose Files'.\n"
          ]
        },
        {
          "output_type": "display_data",
          "data": {
            "text/plain": [
              "<IPython.core.display.HTML object>"
            ],
            "text/html": [
              "\n",
              "     <input type=\"file\" id=\"files-f3f4c982-5607-4e9c-9058-584e5a39a29b\" name=\"files[]\" multiple disabled\n",
              "        style=\"border:none\" />\n",
              "     <output id=\"result-f3f4c982-5607-4e9c-9058-584e5a39a29b\">\n",
              "      Upload widget is only available when the cell has been executed in the\n",
              "      current browser session. Please rerun this cell to enable.\n",
              "      </output>\n",
              "      <script>// Copyright 2017 Google LLC\n",
              "//\n",
              "// Licensed under the Apache License, Version 2.0 (the \"License\");\n",
              "// you may not use this file except in compliance with the License.\n",
              "// You may obtain a copy of the License at\n",
              "//\n",
              "//      http://www.apache.org/licenses/LICENSE-2.0\n",
              "//\n",
              "// Unless required by applicable law or agreed to in writing, software\n",
              "// distributed under the License is distributed on an \"AS IS\" BASIS,\n",
              "// WITHOUT WARRANTIES OR CONDITIONS OF ANY KIND, either express or implied.\n",
              "// See the License for the specific language governing permissions and\n",
              "// limitations under the License.\n",
              "\n",
              "/**\n",
              " * @fileoverview Helpers for google.colab Python module.\n",
              " */\n",
              "(function(scope) {\n",
              "function span(text, styleAttributes = {}) {\n",
              "  const element = document.createElement('span');\n",
              "  element.textContent = text;\n",
              "  for (const key of Object.keys(styleAttributes)) {\n",
              "    element.style[key] = styleAttributes[key];\n",
              "  }\n",
              "  return element;\n",
              "}\n",
              "\n",
              "// Max number of bytes which will be uploaded at a time.\n",
              "const MAX_PAYLOAD_SIZE = 100 * 1024;\n",
              "\n",
              "function _uploadFiles(inputId, outputId) {\n",
              "  const steps = uploadFilesStep(inputId, outputId);\n",
              "  const outputElement = document.getElementById(outputId);\n",
              "  // Cache steps on the outputElement to make it available for the next call\n",
              "  // to uploadFilesContinue from Python.\n",
              "  outputElement.steps = steps;\n",
              "\n",
              "  return _uploadFilesContinue(outputId);\n",
              "}\n",
              "\n",
              "// This is roughly an async generator (not supported in the browser yet),\n",
              "// where there are multiple asynchronous steps and the Python side is going\n",
              "// to poll for completion of each step.\n",
              "// This uses a Promise to block the python side on completion of each step,\n",
              "// then passes the result of the previous step as the input to the next step.\n",
              "function _uploadFilesContinue(outputId) {\n",
              "  const outputElement = document.getElementById(outputId);\n",
              "  const steps = outputElement.steps;\n",
              "\n",
              "  const next = steps.next(outputElement.lastPromiseValue);\n",
              "  return Promise.resolve(next.value.promise).then((value) => {\n",
              "    // Cache the last promise value to make it available to the next\n",
              "    // step of the generator.\n",
              "    outputElement.lastPromiseValue = value;\n",
              "    return next.value.response;\n",
              "  });\n",
              "}\n",
              "\n",
              "/**\n",
              " * Generator function which is called between each async step of the upload\n",
              " * process.\n",
              " * @param {string} inputId Element ID of the input file picker element.\n",
              " * @param {string} outputId Element ID of the output display.\n",
              " * @return {!Iterable<!Object>} Iterable of next steps.\n",
              " */\n",
              "function* uploadFilesStep(inputId, outputId) {\n",
              "  const inputElement = document.getElementById(inputId);\n",
              "  inputElement.disabled = false;\n",
              "\n",
              "  const outputElement = document.getElementById(outputId);\n",
              "  outputElement.innerHTML = '';\n",
              "\n",
              "  const pickedPromise = new Promise((resolve) => {\n",
              "    inputElement.addEventListener('change', (e) => {\n",
              "      resolve(e.target.files);\n",
              "    });\n",
              "  });\n",
              "\n",
              "  const cancel = document.createElement('button');\n",
              "  inputElement.parentElement.appendChild(cancel);\n",
              "  cancel.textContent = 'Cancel upload';\n",
              "  const cancelPromise = new Promise((resolve) => {\n",
              "    cancel.onclick = () => {\n",
              "      resolve(null);\n",
              "    };\n",
              "  });\n",
              "\n",
              "  // Wait for the user to pick the files.\n",
              "  const files = yield {\n",
              "    promise: Promise.race([pickedPromise, cancelPromise]),\n",
              "    response: {\n",
              "      action: 'starting',\n",
              "    }\n",
              "  };\n",
              "\n",
              "  cancel.remove();\n",
              "\n",
              "  // Disable the input element since further picks are not allowed.\n",
              "  inputElement.disabled = true;\n",
              "\n",
              "  if (!files) {\n",
              "    return {\n",
              "      response: {\n",
              "        action: 'complete',\n",
              "      }\n",
              "    };\n",
              "  }\n",
              "\n",
              "  for (const file of files) {\n",
              "    const li = document.createElement('li');\n",
              "    li.append(span(file.name, {fontWeight: 'bold'}));\n",
              "    li.append(span(\n",
              "        `(${file.type || 'n/a'}) - ${file.size} bytes, ` +\n",
              "        `last modified: ${\n",
              "            file.lastModifiedDate ? file.lastModifiedDate.toLocaleDateString() :\n",
              "                                    'n/a'} - `));\n",
              "    const percent = span('0% done');\n",
              "    li.appendChild(percent);\n",
              "\n",
              "    outputElement.appendChild(li);\n",
              "\n",
              "    const fileDataPromise = new Promise((resolve) => {\n",
              "      const reader = new FileReader();\n",
              "      reader.onload = (e) => {\n",
              "        resolve(e.target.result);\n",
              "      };\n",
              "      reader.readAsArrayBuffer(file);\n",
              "    });\n",
              "    // Wait for the data to be ready.\n",
              "    let fileData = yield {\n",
              "      promise: fileDataPromise,\n",
              "      response: {\n",
              "        action: 'continue',\n",
              "      }\n",
              "    };\n",
              "\n",
              "    // Use a chunked sending to avoid message size limits. See b/62115660.\n",
              "    let position = 0;\n",
              "    do {\n",
              "      const length = Math.min(fileData.byteLength - position, MAX_PAYLOAD_SIZE);\n",
              "      const chunk = new Uint8Array(fileData, position, length);\n",
              "      position += length;\n",
              "\n",
              "      const base64 = btoa(String.fromCharCode.apply(null, chunk));\n",
              "      yield {\n",
              "        response: {\n",
              "          action: 'append',\n",
              "          file: file.name,\n",
              "          data: base64,\n",
              "        },\n",
              "      };\n",
              "\n",
              "      let percentDone = fileData.byteLength === 0 ?\n",
              "          100 :\n",
              "          Math.round((position / fileData.byteLength) * 100);\n",
              "      percent.textContent = `${percentDone}% done`;\n",
              "\n",
              "    } while (position < fileData.byteLength);\n",
              "  }\n",
              "\n",
              "  // All done.\n",
              "  yield {\n",
              "    response: {\n",
              "      action: 'complete',\n",
              "    }\n",
              "  };\n",
              "}\n",
              "\n",
              "scope.google = scope.google || {};\n",
              "scope.google.colab = scope.google.colab || {};\n",
              "scope.google.colab._files = {\n",
              "  _uploadFiles,\n",
              "  _uploadFilesContinue,\n",
              "};\n",
              "})(self);\n",
              "</script> "
            ]
          },
          "metadata": {}
        },
        {
          "output_type": "stream",
          "name": "stdout",
          "text": [
            "Saving weather_data.csv to weather_data.csv\n",
            "\n",
            "Dataset loaded successfully from uploaded file.\n",
            "Dataset shape: (3650, 15)\n",
            "\n",
            "First 5 rows of the dataset:\n",
            "             datetime   timestamp   temp  humidity  pressure  rain_analog  \\\n",
            "0 2024-04-24 00:42:00  1713899520  30.65      30.0    1007.6           98   \n",
            "1 2024-04-24 02:42:00  1713906720  28.65      44.0    1008.3           97   \n",
            "2 2024-04-24 04:13:00  1713912180  26.65      30.0    1015.5           98   \n",
            "3 2024-04-24 07:54:00  1713925440  28.65      31.0    1009.2           98   \n",
            "4 2024-04-24 09:07:00  1713929820  32.65      40.0    1012.4           97   \n",
            "\n",
            "   rain_detected  light_intensity  nh3     co  co2  alcohol    lpg    ch4  aqi  \n",
            "0          False             10.0  2.3  127.0  0.5      0.9  256.4  252.1  171  \n",
            "1          False             14.0  3.3  146.0  0.6      1.0  269.4  272.5  196  \n",
            "2          False              0.0  2.2  128.0  0.5      0.9  245.2  248.4  169  \n",
            "3          False            258.0  3.6  154.0  0.7      1.2  264.6  269.2  218  \n",
            "4          False            302.0  2.5  138.0  0.5      1.1  260.7  260.1  195  \n",
            "\n",
            "Dataset Info:\n",
            "<class 'pandas.core.frame.DataFrame'>\n",
            "RangeIndex: 3650 entries, 0 to 3649\n",
            "Data columns (total 15 columns):\n",
            " #   Column           Non-Null Count  Dtype         \n",
            "---  ------           --------------  -----         \n",
            " 0   datetime         3650 non-null   datetime64[ns]\n",
            " 1   timestamp        3650 non-null   int64         \n",
            " 2   temp             3650 non-null   float64       \n",
            " 3   humidity         3650 non-null   float64       \n",
            " 4   pressure         3650 non-null   float64       \n",
            " 5   rain_analog      3650 non-null   int64         \n",
            " 6   rain_detected    3650 non-null   bool          \n",
            " 7   light_intensity  3650 non-null   float64       \n",
            " 8   nh3              3650 non-null   float64       \n",
            " 9   co               3650 non-null   float64       \n",
            " 10  co2              3650 non-null   float64       \n",
            " 11  alcohol          3650 non-null   float64       \n",
            " 12  lpg              3650 non-null   float64       \n",
            " 13  ch4              3650 non-null   float64       \n",
            " 14  aqi              3650 non-null   int64         \n",
            "dtypes: bool(1), datetime64[ns](1), float64(10), int64(3)\n",
            "memory usage: 402.9 KB\n"
          ]
        }
      ]
    },
    {
      "cell_type": "code",
      "source": [
        "# We create new features from the 'datetime' column. Time-based features like\n",
        "# the hour of the day or month of the year can help the model detect cyclical\n",
        "# weather patterns (e.g., daily temperature cycles).\n",
        "df['precipitation'] = 1 - (df['rain_analog'] / 1023.0)\n",
        "\n",
        "df['hour'] = df['datetime'].dt.hour\n",
        "df['day_of_week'] = df['datetime'].dt.dayofweek\n",
        "df['month'] = df['datetime'].dt.month\n",
        "df['day_of_year'] = df['datetime'].dt.dayofyear\n",
        "\n",
        "# Create cyclical features for time, which help the model understand time's cyclical nature\n",
        "# (e.g., hour 23 is close to hour 0).\n",
        "df['hour_sin'] = np.sin(2 * np.pi * df['hour'] / 24)\n",
        "df['hour_cos'] = np.cos(2 * np.pi * df['hour'] / 24)\n",
        "df['month_sin'] = np.sin(2 * np.pi * df['month'] / 12)\n",
        "df['month_cos'] = np.cos(2 * np.pi * df['month'] / 12)\n",
        "\n",
        "print(\"Time-based features created:\")\n",
        "print(df[['datetime', 'hour', 'hour_sin', 'hour_cos', 'month', 'month_sin', 'month_cos']].head())"
      ],
      "metadata": {
        "colab": {
          "base_uri": "https://localhost:8080/"
        },
        "id": "QOYgw7Ur-4Du",
        "outputId": "bca1c55d-4cf8-4c1f-8cf5-3a7d60c912d5"
      },
      "execution_count": 9,
      "outputs": [
        {
          "output_type": "stream",
          "name": "stdout",
          "text": [
            "Time-based features created:\n",
            "             datetime  hour  hour_sin  hour_cos  month  month_sin  month_cos\n",
            "0 2024-04-24 00:42:00     0  0.000000  1.000000      4   0.866025       -0.5\n",
            "1 2024-04-24 02:42:00     2  0.500000  0.866025      4   0.866025       -0.5\n",
            "2 2024-04-24 04:13:00     4  0.866025  0.500000      4   0.866025       -0.5\n",
            "3 2024-04-24 07:54:00     7  0.965926 -0.258819      4   0.866025       -0.5\n",
            "4 2024-04-24 09:07:00     9  0.707107 -0.707107      4   0.866025       -0.5\n"
          ]
        }
      ]
    },
    {
      "cell_type": "code",
      "source": [
        "# We define which columns will be our input features (X) and which we want to\n",
        "# predict (y). We then scale the data to a range between 0 and 1.\n",
        "# Normalization is essential for neural networks to train effectively.\n",
        "FEATURE_COLS = [\n",
        "    'temp', 'humidity', 'pressure', 'rain_analog',\n",
        "    'light_intensity', 'aqi', 'precipitation', 'hour', 'day_of_week', 'month', 'day_of_year',\n",
        "    'hour_sin', 'hour_cos', 'month_sin', 'month_cos'\n",
        "]\n",
        "\n",
        "TARGET_COLS = ['temp', 'precipitation', 'aqi']\n",
        "\n",
        "df_model = df[FEATURE_COLS].copy()\n",
        "\n",
        "feature_scaler = MinMaxScaler()\n",
        "target_scaler = MinMaxScaler()\n",
        "\n",
        "scaled_features = feature_scaler.fit_transform(df_model)\n",
        "scaled_targets = target_scaler.fit_transform(df_model[TARGET_COLS])\n",
        "\n",
        "print(\"Data scaling complete.\")\n",
        "print(f\"Scaled features shape: {scaled_features.shape}\")\n",
        "print(f\"Scaled targets shape: {scaled_targets.shape}\")\n",
        "\n",
        "joblib.dump(feature_scaler, os.path.join(MODEL_DIR, 'feature_scaler.pkl'))\n",
        "joblib.dump(target_scaler, os.path.join(MODEL_DIR, 'target_scaler.pkl'))\n",
        "print(f\"Scalers saved to '{MODEL_DIR}'\")"
      ],
      "metadata": {
        "colab": {
          "base_uri": "https://localhost:8080/"
        },
        "id": "qPBvfP1l-7CG",
        "outputId": "616d13a5-ed0c-4752-8589-6ceac13c7f31"
      },
      "execution_count": 10,
      "outputs": [
        {
          "output_type": "stream",
          "name": "stdout",
          "text": [
            "Data scaling complete.\n",
            "Scaled features shape: (3650, 15)\n",
            "Scaled targets shape: (3650, 3)\n",
            "Scalers saved to 'models/saved_model'\n"
          ]
        }
      ]
    },
    {
      "cell_type": "code",
      "source": [
        "# LSTMs require data to be in a sequence format of [samples, timesteps, features].\n",
        "# This function converts our flat data into these sequences.\n",
        "# For each sample, we take `lookback` number of historical steps as input (X)\n",
        "# and the next `forecast_horizon` steps as the output to predict (y).\n",
        "def create_sequences(features, targets, lookback, horizon):\n",
        "    X, y = [], []\n",
        "    for i in range(len(features) - lookback - horizon + 1):\n",
        "        X.append(features[i:(i + lookback)])\n",
        "        y.append(targets[i + lookback:i + lookback + horizon])\n",
        "    return np.array(X), np.array(y)\n",
        "\n",
        "X_seq, y_seq = create_sequences(scaled_features, scaled_targets, LOOKBACK_WINDOW, FORECAST_HORIZON)\n",
        "\n",
        "print(\"Time-series sequences created.\")\n",
        "print(f\"Shape of X_seq: {X_seq.shape}\")\n",
        "print(f\"Shape of y_seq: {y_seq.shape}\")"
      ],
      "metadata": {
        "colab": {
          "base_uri": "https://localhost:8080/"
        },
        "id": "TSCJmSvH-9Ph",
        "outputId": "86b68f1f-0ed6-4f9f-fe31-4a07dd6f320d"
      },
      "execution_count": 11,
      "outputs": [
        {
          "output_type": "stream",
          "name": "stdout",
          "text": [
            "Time-series sequences created.\n",
            "Shape of X_seq: (3620, 24, 15)\n",
            "Shape of y_seq: (3620, 7, 3)\n"
          ]
        }
      ]
    },
    {
      "cell_type": "code",
      "source": [
        "# We split our sequenced data into a training set (for teaching the model) and\n",
        "# a validation set (for evaluating its performance on unseen data).\n",
        "# An 80/20 split is a common practice.\n",
        "split_ratio = 0.8\n",
        "split_index = int(len(X_seq) * split_ratio)\n",
        "\n",
        "X_train, X_val = X_seq[:split_index], X_seq[split_index:]\n",
        "y_train, y_val = y_seq[:split_index], y_seq[split_index:]\n",
        "\n",
        "print(\"Data split into training and validation sets:\")\n",
        "print(f\"  - X_train shape: {X_train.shape}\")\n",
        "print(f\"  - y_train shape: {y_train.shape}\")\n",
        "print(f\"  - X_val shape: {X_val.shape}\")\n",
        "print(f\"  - y_val shape: {y_val.shape}\")"
      ],
      "metadata": {
        "colab": {
          "base_uri": "https://localhost:8080/"
        },
        "id": "7RciXzjJ-_UF",
        "outputId": "daa61cf9-66f4-41aa-cf63-273705de331a"
      },
      "execution_count": 12,
      "outputs": [
        {
          "output_type": "stream",
          "name": "stdout",
          "text": [
            "Data split into training and validation sets:\n",
            "  - X_train shape: (2896, 24, 15)\n",
            "  - y_train shape: (2896, 7, 3)\n",
            "  - X_val shape: (724, 24, 15)\n",
            "  - y_val shape: (724, 7, 3)\n"
          ]
        }
      ]
    },
    {
      "cell_type": "code",
      "source": [
        "# Here we define the architecture of our neural network.\n",
        "# - LSTM layers are the core of our model for processing sequences.\n",
        "# - Dropout layers help prevent overfitting by randomly ignoring some neurons\n",
        "#   during training.\n",
        "# - The final Dense layer outputs the prediction.\n",
        "input_shape = (X_train.shape[1], X_train.shape[2])\n",
        "output_shape = (y_train.shape[1], y_train.shape[2])\n",
        "\n",
        "model = Sequential([\n",
        "    LSTM(100, input_shape=input_shape, return_sequences=True),\n",
        "    Dropout(0.2),\n",
        "    LSTM(50, return_sequences=False),\n",
        "    Dropout(0.2),\n",
        "    Dense(output_shape[0] * output_shape[1]),\n",
        "    Reshape(output_shape)\n",
        "])\n",
        "\n",
        "model.compile(optimizer='adam', loss='mean_squared_error')\n",
        "\n",
        "print(\"Model architecture built successfully.\")\n",
        "model.summary()"
      ],
      "metadata": {
        "colab": {
          "base_uri": "https://localhost:8080/",
          "height": 406
        },
        "id": "QJNwF_q7_BJO",
        "outputId": "78bda182-7e30-4d3c-9167-96bbfa00d3ce"
      },
      "execution_count": 13,
      "outputs": [
        {
          "output_type": "stream",
          "name": "stderr",
          "text": [
            "/usr/local/lib/python3.12/dist-packages/keras/src/layers/rnn/rnn.py:199: UserWarning: Do not pass an `input_shape`/`input_dim` argument to a layer. When using Sequential models, prefer using an `Input(shape)` object as the first layer in the model instead.\n",
            "  super().__init__(**kwargs)\n"
          ]
        },
        {
          "output_type": "stream",
          "name": "stdout",
          "text": [
            "Model architecture built successfully.\n"
          ]
        },
        {
          "output_type": "display_data",
          "data": {
            "text/plain": [
              "\u001b[1mModel: \"sequential\"\u001b[0m\n"
            ],
            "text/html": [
              "<pre style=\"white-space:pre;overflow-x:auto;line-height:normal;font-family:Menlo,'DejaVu Sans Mono',consolas,'Courier New',monospace\"><span style=\"font-weight: bold\">Model: \"sequential\"</span>\n",
              "</pre>\n"
            ]
          },
          "metadata": {}
        },
        {
          "output_type": "display_data",
          "data": {
            "text/plain": [
              "┏━━━━━━━━━━━━━━━━━━━━━━━━━━━━━━━━━┳━━━━━━━━━━━━━━━━━━━━━━━━┳━━━━━━━━━━━━━━━┓\n",
              "┃\u001b[1m \u001b[0m\u001b[1mLayer (type)                   \u001b[0m\u001b[1m \u001b[0m┃\u001b[1m \u001b[0m\u001b[1mOutput Shape          \u001b[0m\u001b[1m \u001b[0m┃\u001b[1m \u001b[0m\u001b[1m      Param #\u001b[0m\u001b[1m \u001b[0m┃\n",
              "┡━━━━━━━━━━━━━━━━━━━━━━━━━━━━━━━━━╇━━━━━━━━━━━━━━━━━━━━━━━━╇━━━━━━━━━━━━━━━┩\n",
              "│ lstm (\u001b[38;5;33mLSTM\u001b[0m)                     │ (\u001b[38;5;45mNone\u001b[0m, \u001b[38;5;34m24\u001b[0m, \u001b[38;5;34m100\u001b[0m)        │        \u001b[38;5;34m46,400\u001b[0m │\n",
              "├─────────────────────────────────┼────────────────────────┼───────────────┤\n",
              "│ dropout (\u001b[38;5;33mDropout\u001b[0m)               │ (\u001b[38;5;45mNone\u001b[0m, \u001b[38;5;34m24\u001b[0m, \u001b[38;5;34m100\u001b[0m)        │             \u001b[38;5;34m0\u001b[0m │\n",
              "├─────────────────────────────────┼────────────────────────┼───────────────┤\n",
              "│ lstm_1 (\u001b[38;5;33mLSTM\u001b[0m)                   │ (\u001b[38;5;45mNone\u001b[0m, \u001b[38;5;34m50\u001b[0m)             │        \u001b[38;5;34m30,200\u001b[0m │\n",
              "├─────────────────────────────────┼────────────────────────┼───────────────┤\n",
              "│ dropout_1 (\u001b[38;5;33mDropout\u001b[0m)             │ (\u001b[38;5;45mNone\u001b[0m, \u001b[38;5;34m50\u001b[0m)             │             \u001b[38;5;34m0\u001b[0m │\n",
              "├─────────────────────────────────┼────────────────────────┼───────────────┤\n",
              "│ dense (\u001b[38;5;33mDense\u001b[0m)                   │ (\u001b[38;5;45mNone\u001b[0m, \u001b[38;5;34m21\u001b[0m)             │         \u001b[38;5;34m1,071\u001b[0m │\n",
              "├─────────────────────────────────┼────────────────────────┼───────────────┤\n",
              "│ reshape (\u001b[38;5;33mReshape\u001b[0m)               │ (\u001b[38;5;45mNone\u001b[0m, \u001b[38;5;34m7\u001b[0m, \u001b[38;5;34m3\u001b[0m)           │             \u001b[38;5;34m0\u001b[0m │\n",
              "└─────────────────────────────────┴────────────────────────┴───────────────┘\n"
            ],
            "text/html": [
              "<pre style=\"white-space:pre;overflow-x:auto;line-height:normal;font-family:Menlo,'DejaVu Sans Mono',consolas,'Courier New',monospace\">┏━━━━━━━━━━━━━━━━━━━━━━━━━━━━━━━━━┳━━━━━━━━━━━━━━━━━━━━━━━━┳━━━━━━━━━━━━━━━┓\n",
              "┃<span style=\"font-weight: bold\"> Layer (type)                    </span>┃<span style=\"font-weight: bold\"> Output Shape           </span>┃<span style=\"font-weight: bold\">       Param # </span>┃\n",
              "┡━━━━━━━━━━━━━━━━━━━━━━━━━━━━━━━━━╇━━━━━━━━━━━━━━━━━━━━━━━━╇━━━━━━━━━━━━━━━┩\n",
              "│ lstm (<span style=\"color: #0087ff; text-decoration-color: #0087ff\">LSTM</span>)                     │ (<span style=\"color: #00d7ff; text-decoration-color: #00d7ff\">None</span>, <span style=\"color: #00af00; text-decoration-color: #00af00\">24</span>, <span style=\"color: #00af00; text-decoration-color: #00af00\">100</span>)        │        <span style=\"color: #00af00; text-decoration-color: #00af00\">46,400</span> │\n",
              "├─────────────────────────────────┼────────────────────────┼───────────────┤\n",
              "│ dropout (<span style=\"color: #0087ff; text-decoration-color: #0087ff\">Dropout</span>)               │ (<span style=\"color: #00d7ff; text-decoration-color: #00d7ff\">None</span>, <span style=\"color: #00af00; text-decoration-color: #00af00\">24</span>, <span style=\"color: #00af00; text-decoration-color: #00af00\">100</span>)        │             <span style=\"color: #00af00; text-decoration-color: #00af00\">0</span> │\n",
              "├─────────────────────────────────┼────────────────────────┼───────────────┤\n",
              "│ lstm_1 (<span style=\"color: #0087ff; text-decoration-color: #0087ff\">LSTM</span>)                   │ (<span style=\"color: #00d7ff; text-decoration-color: #00d7ff\">None</span>, <span style=\"color: #00af00; text-decoration-color: #00af00\">50</span>)             │        <span style=\"color: #00af00; text-decoration-color: #00af00\">30,200</span> │\n",
              "├─────────────────────────────────┼────────────────────────┼───────────────┤\n",
              "│ dropout_1 (<span style=\"color: #0087ff; text-decoration-color: #0087ff\">Dropout</span>)             │ (<span style=\"color: #00d7ff; text-decoration-color: #00d7ff\">None</span>, <span style=\"color: #00af00; text-decoration-color: #00af00\">50</span>)             │             <span style=\"color: #00af00; text-decoration-color: #00af00\">0</span> │\n",
              "├─────────────────────────────────┼────────────────────────┼───────────────┤\n",
              "│ dense (<span style=\"color: #0087ff; text-decoration-color: #0087ff\">Dense</span>)                   │ (<span style=\"color: #00d7ff; text-decoration-color: #00d7ff\">None</span>, <span style=\"color: #00af00; text-decoration-color: #00af00\">21</span>)             │         <span style=\"color: #00af00; text-decoration-color: #00af00\">1,071</span> │\n",
              "├─────────────────────────────────┼────────────────────────┼───────────────┤\n",
              "│ reshape (<span style=\"color: #0087ff; text-decoration-color: #0087ff\">Reshape</span>)               │ (<span style=\"color: #00d7ff; text-decoration-color: #00d7ff\">None</span>, <span style=\"color: #00af00; text-decoration-color: #00af00\">7</span>, <span style=\"color: #00af00; text-decoration-color: #00af00\">3</span>)           │             <span style=\"color: #00af00; text-decoration-color: #00af00\">0</span> │\n",
              "└─────────────────────────────────┴────────────────────────┴───────────────┘\n",
              "</pre>\n"
            ]
          },
          "metadata": {}
        },
        {
          "output_type": "display_data",
          "data": {
            "text/plain": [
              "\u001b[1m Total params: \u001b[0m\u001b[38;5;34m77,671\u001b[0m (303.40 KB)\n"
            ],
            "text/html": [
              "<pre style=\"white-space:pre;overflow-x:auto;line-height:normal;font-family:Menlo,'DejaVu Sans Mono',consolas,'Courier New',monospace\"><span style=\"font-weight: bold\"> Total params: </span><span style=\"color: #00af00; text-decoration-color: #00af00\">77,671</span> (303.40 KB)\n",
              "</pre>\n"
            ]
          },
          "metadata": {}
        },
        {
          "output_type": "display_data",
          "data": {
            "text/plain": [
              "\u001b[1m Trainable params: \u001b[0m\u001b[38;5;34m77,671\u001b[0m (303.40 KB)\n"
            ],
            "text/html": [
              "<pre style=\"white-space:pre;overflow-x:auto;line-height:normal;font-family:Menlo,'DejaVu Sans Mono',consolas,'Courier New',monospace\"><span style=\"font-weight: bold\"> Trainable params: </span><span style=\"color: #00af00; text-decoration-color: #00af00\">77,671</span> (303.40 KB)\n",
              "</pre>\n"
            ]
          },
          "metadata": {}
        },
        {
          "output_type": "display_data",
          "data": {
            "text/plain": [
              "\u001b[1m Non-trainable params: \u001b[0m\u001b[38;5;34m0\u001b[0m (0.00 B)\n"
            ],
            "text/html": [
              "<pre style=\"white-space:pre;overflow-x:auto;line-height:normal;font-family:Menlo,'DejaVu Sans Mono',consolas,'Courier New',monospace\"><span style=\"font-weight: bold\"> Non-trainable params: </span><span style=\"color: #00af00; text-decoration-color: #00af00\">0</span> (0.00 B)\n",
              "</pre>\n"
            ]
          },
          "metadata": {}
        }
      ]
    },
    {
      "cell_type": "code",
      "source": [
        "# This is where the training happens. The model learns by comparing its\n",
        "# predictions to the actual target values and adjusting its internal weights.\n",
        "# - ModelCheckpoint: Saves the best version of the model (with the lowest\n",
        "#   validation loss) to a file.\n",
        "# - EarlyStopping: Stops training if the model's performance on the validation\n",
        "#   set doesn't improve for a certain number of epochs.\n",
        "model_filepath = os.path.join(MODEL_DIR, 'weather_forecast_model.keras')\n",
        "\n",
        "checkpoint = ModelCheckpoint(\n",
        "    filepath=model_filepath,\n",
        "    save_best_only=True,\n",
        "    monitor='val_loss',\n",
        "    mode='min',\n",
        "    verbose=1\n",
        ")\n",
        "\n",
        "early_stopping = EarlyStopping(\n",
        "    monitor='val_loss',\n",
        "    patience=10,\n",
        "    restore_best_weights=True,\n",
        "    verbose=1\n",
        ")\n",
        "\n",
        "print(\"\\nStarting model training...\")\n",
        "history = model.fit(\n",
        "    X_train, y_train,\n",
        "    epochs=EPOCHS,\n",
        "    batch_size=32,\n",
        "    validation_data=(X_val, y_val),\n",
        "    callbacks=[checkpoint, early_stopping],\n",
        "    verbose=1\n",
        ")\n",
        "\n",
        "print(\"\\nModel training complete.\")"
      ],
      "metadata": {
        "colab": {
          "base_uri": "https://localhost:8080/"
        },
        "id": "8Y3pHJCu_Ekx",
        "outputId": "6cd9311f-20ca-4c83-8699-73629d378d45"
      },
      "execution_count": 14,
      "outputs": [
        {
          "output_type": "stream",
          "name": "stdout",
          "text": [
            "\n",
            "Starting model training...\n",
            "Epoch 1/100\n",
            "\u001b[1m91/91\u001b[0m \u001b[32m━━━━━━━━━━━━━━━━━━━━\u001b[0m\u001b[37m\u001b[0m \u001b[1m0s\u001b[0m 7ms/step - loss: 0.0653\n",
            "Epoch 1: val_loss improved from inf to 0.01574, saving model to models/saved_model/weather_forecast_model.keras\n",
            "\u001b[1m91/91\u001b[0m \u001b[32m━━━━━━━━━━━━━━━━━━━━\u001b[0m\u001b[37m\u001b[0m \u001b[1m5s\u001b[0m 18ms/step - loss: 0.0651 - val_loss: 0.0157\n",
            "Epoch 2/100\n",
            "\u001b[1m86/91\u001b[0m \u001b[32m━━━━━━━━━━━━━━━━━━\u001b[0m\u001b[37m━━\u001b[0m \u001b[1m0s\u001b[0m 7ms/step - loss: 0.0321\n",
            "Epoch 2: val_loss improved from 0.01574 to 0.01346, saving model to models/saved_model/weather_forecast_model.keras\n",
            "\u001b[1m91/91\u001b[0m \u001b[32m━━━━━━━━━━━━━━━━━━━━\u001b[0m\u001b[37m\u001b[0m \u001b[1m2s\u001b[0m 9ms/step - loss: 0.0321 - val_loss: 0.0135\n",
            "Epoch 3/100\n",
            "\u001b[1m85/91\u001b[0m \u001b[32m━━━━━━━━━━━━━━━━━━\u001b[0m\u001b[37m━━\u001b[0m \u001b[1m0s\u001b[0m 6ms/step - loss: 0.0293\n",
            "Epoch 3: val_loss improved from 0.01346 to 0.01196, saving model to models/saved_model/weather_forecast_model.keras\n",
            "\u001b[1m91/91\u001b[0m \u001b[32m━━━━━━━━━━━━━━━━━━━━\u001b[0m\u001b[37m\u001b[0m \u001b[1m1s\u001b[0m 9ms/step - loss: 0.0293 - val_loss: 0.0120\n",
            "Epoch 4/100\n",
            "\u001b[1m90/91\u001b[0m \u001b[32m━━━━━━━━━━━━━━━━━━━\u001b[0m\u001b[37m━\u001b[0m \u001b[1m0s\u001b[0m 7ms/step - loss: 0.0265\n",
            "Epoch 4: val_loss improved from 0.01196 to 0.01119, saving model to models/saved_model/weather_forecast_model.keras\n",
            "\u001b[1m91/91\u001b[0m \u001b[32m━━━━━━━━━━━━━━━━━━━━\u001b[0m\u001b[37m\u001b[0m \u001b[1m1s\u001b[0m 9ms/step - loss: 0.0265 - val_loss: 0.0112\n",
            "Epoch 5/100\n",
            "\u001b[1m89/91\u001b[0m \u001b[32m━━━━━━━━━━━━━━━━━━━\u001b[0m\u001b[37m━\u001b[0m \u001b[1m0s\u001b[0m 7ms/step - loss: 0.0263\n",
            "Epoch 5: val_loss did not improve from 0.01119\n",
            "\u001b[1m91/91\u001b[0m \u001b[32m━━━━━━━━━━━━━━━━━━━━\u001b[0m\u001b[37m\u001b[0m \u001b[1m1s\u001b[0m 8ms/step - loss: 0.0262 - val_loss: 0.0114\n",
            "Epoch 6/100\n",
            "\u001b[1m84/91\u001b[0m \u001b[32m━━━━━━━━━━━━━━━━━━\u001b[0m\u001b[37m━━\u001b[0m \u001b[1m0s\u001b[0m 6ms/step - loss: 0.0244\n",
            "Epoch 6: val_loss did not improve from 0.01119\n",
            "\u001b[1m91/91\u001b[0m \u001b[32m━━━━━━━━━━━━━━━━━━━━\u001b[0m\u001b[37m\u001b[0m \u001b[1m1s\u001b[0m 8ms/step - loss: 0.0244 - val_loss: 0.0114\n",
            "Epoch 7/100\n",
            "\u001b[1m84/91\u001b[0m \u001b[32m━━━━━━━━━━━━━━━━━━\u001b[0m\u001b[37m━━\u001b[0m \u001b[1m0s\u001b[0m 6ms/step - loss: 0.0243\n",
            "Epoch 7: val_loss improved from 0.01119 to 0.01107, saving model to models/saved_model/weather_forecast_model.keras\n",
            "\u001b[1m91/91\u001b[0m \u001b[32m━━━━━━━━━━━━━━━━━━━━\u001b[0m\u001b[37m\u001b[0m \u001b[1m1s\u001b[0m 8ms/step - loss: 0.0243 - val_loss: 0.0111\n",
            "Epoch 8/100\n",
            "\u001b[1m90/91\u001b[0m \u001b[32m━━━━━━━━━━━━━━━━━━━\u001b[0m\u001b[37m━\u001b[0m \u001b[1m0s\u001b[0m 6ms/step - loss: 0.0239\n",
            "Epoch 8: val_loss did not improve from 0.01107\n",
            "\u001b[1m91/91\u001b[0m \u001b[32m━━━━━━━━━━━━━━━━━━━━\u001b[0m\u001b[37m\u001b[0m \u001b[1m1s\u001b[0m 8ms/step - loss: 0.0239 - val_loss: 0.0114\n",
            "Epoch 9/100\n",
            "\u001b[1m91/91\u001b[0m \u001b[32m━━━━━━━━━━━━━━━━━━━━\u001b[0m\u001b[37m\u001b[0m \u001b[1m0s\u001b[0m 6ms/step - loss: 0.0234\n",
            "Epoch 9: val_loss improved from 0.01107 to 0.01067, saving model to models/saved_model/weather_forecast_model.keras\n",
            "\u001b[1m91/91\u001b[0m \u001b[32m━━━━━━━━━━━━━━━━━━━━\u001b[0m\u001b[37m\u001b[0m \u001b[1m1s\u001b[0m 8ms/step - loss: 0.0234 - val_loss: 0.0107\n",
            "Epoch 10/100\n",
            "\u001b[1m86/91\u001b[0m \u001b[32m━━━━━━━━━━━━━━━━━━\u001b[0m\u001b[37m━━\u001b[0m \u001b[1m0s\u001b[0m 6ms/step - loss: 0.0229\n",
            "Epoch 10: val_loss did not improve from 0.01067\n",
            "\u001b[1m91/91\u001b[0m \u001b[32m━━━━━━━━━━━━━━━━━━━━\u001b[0m\u001b[37m\u001b[0m \u001b[1m1s\u001b[0m 8ms/step - loss: 0.0229 - val_loss: 0.0108\n",
            "Epoch 11/100\n",
            "\u001b[1m86/91\u001b[0m \u001b[32m━━━━━━━━━━━━━━━━━━\u001b[0m\u001b[37m━━\u001b[0m \u001b[1m0s\u001b[0m 6ms/step - loss: 0.0226\n",
            "Epoch 11: val_loss did not improve from 0.01067\n",
            "\u001b[1m91/91\u001b[0m \u001b[32m━━━━━━━━━━━━━━━━━━━━\u001b[0m\u001b[37m\u001b[0m \u001b[1m1s\u001b[0m 7ms/step - loss: 0.0226 - val_loss: 0.0118\n",
            "Epoch 12/100\n",
            "\u001b[1m84/91\u001b[0m \u001b[32m━━━━━━━━━━━━━━━━━━\u001b[0m\u001b[37m━━\u001b[0m \u001b[1m0s\u001b[0m 6ms/step - loss: 0.0227\n",
            "Epoch 12: val_loss did not improve from 0.01067\n",
            "\u001b[1m91/91\u001b[0m \u001b[32m━━━━━━━━━━━━━━━━━━━━\u001b[0m\u001b[37m\u001b[0m \u001b[1m1s\u001b[0m 8ms/step - loss: 0.0227 - val_loss: 0.0116\n",
            "Epoch 13/100\n",
            "\u001b[1m89/91\u001b[0m \u001b[32m━━━━━━━━━━━━━━━━━━━\u001b[0m\u001b[37m━\u001b[0m \u001b[1m0s\u001b[0m 9ms/step - loss: 0.0218\n",
            "Epoch 13: val_loss improved from 0.01067 to 0.01050, saving model to models/saved_model/weather_forecast_model.keras\n",
            "\u001b[1m91/91\u001b[0m \u001b[32m━━━━━━━━━━━━━━━━━━━━\u001b[0m\u001b[37m\u001b[0m \u001b[1m2s\u001b[0m 12ms/step - loss: 0.0218 - val_loss: 0.0105\n",
            "Epoch 14/100\n",
            "\u001b[1m88/91\u001b[0m \u001b[32m━━━━━━━━━━━━━━━━━━━\u001b[0m\u001b[37m━\u001b[0m \u001b[1m0s\u001b[0m 8ms/step - loss: 0.0215\n",
            "Epoch 14: val_loss did not improve from 0.01050\n",
            "\u001b[1m91/91\u001b[0m \u001b[32m━━━━━━━━━━━━━━━━━━━━\u001b[0m\u001b[37m\u001b[0m \u001b[1m1s\u001b[0m 9ms/step - loss: 0.0215 - val_loss: 0.0109\n",
            "Epoch 15/100\n",
            "\u001b[1m85/91\u001b[0m \u001b[32m━━━━━━━━━━━━━━━━━━\u001b[0m\u001b[37m━━\u001b[0m \u001b[1m0s\u001b[0m 6ms/step - loss: 0.0210\n",
            "Epoch 15: val_loss improved from 0.01050 to 0.01038, saving model to models/saved_model/weather_forecast_model.keras\n",
            "\u001b[1m91/91\u001b[0m \u001b[32m━━━━━━━━━━━━━━━━━━━━\u001b[0m\u001b[37m\u001b[0m \u001b[1m1s\u001b[0m 9ms/step - loss: 0.0210 - val_loss: 0.0104\n",
            "Epoch 16/100\n",
            "\u001b[1m84/91\u001b[0m \u001b[32m━━━━━━━━━━━━━━━━━━\u001b[0m\u001b[37m━━\u001b[0m \u001b[1m0s\u001b[0m 6ms/step - loss: 0.0219\n",
            "Epoch 16: val_loss did not improve from 0.01038\n",
            "\u001b[1m91/91\u001b[0m \u001b[32m━━━━━━━━━━━━━━━━━━━━\u001b[0m\u001b[37m\u001b[0m \u001b[1m1s\u001b[0m 8ms/step - loss: 0.0218 - val_loss: 0.0110\n",
            "Epoch 17/100\n",
            "\u001b[1m91/91\u001b[0m \u001b[32m━━━━━━━━━━━━━━━━━━━━\u001b[0m\u001b[37m\u001b[0m \u001b[1m0s\u001b[0m 7ms/step - loss: 0.0209\n",
            "Epoch 17: val_loss did not improve from 0.01038\n",
            "\u001b[1m91/91\u001b[0m \u001b[32m━━━━━━━━━━━━━━━━━━━━\u001b[0m\u001b[37m\u001b[0m \u001b[1m1s\u001b[0m 8ms/step - loss: 0.0209 - val_loss: 0.0109\n",
            "Epoch 18/100\n",
            "\u001b[1m90/91\u001b[0m \u001b[32m━━━━━━━━━━━━━━━━━━━\u001b[0m\u001b[37m━\u001b[0m \u001b[1m0s\u001b[0m 6ms/step - loss: 0.0205\n",
            "Epoch 18: val_loss did not improve from 0.01038\n",
            "\u001b[1m91/91\u001b[0m \u001b[32m━━━━━━━━━━━━━━━━━━━━\u001b[0m\u001b[37m\u001b[0m \u001b[1m1s\u001b[0m 8ms/step - loss: 0.0205 - val_loss: 0.0109\n",
            "Epoch 19/100\n",
            "\u001b[1m86/91\u001b[0m \u001b[32m━━━━━━━━━━━━━━━━━━\u001b[0m\u001b[37m━━\u001b[0m \u001b[1m0s\u001b[0m 7ms/step - loss: 0.0207\n",
            "Epoch 19: val_loss improved from 0.01038 to 0.01026, saving model to models/saved_model/weather_forecast_model.keras\n",
            "\u001b[1m91/91\u001b[0m \u001b[32m━━━━━━━━━━━━━━━━━━━━\u001b[0m\u001b[37m\u001b[0m \u001b[1m1s\u001b[0m 8ms/step - loss: 0.0207 - val_loss: 0.0103\n",
            "Epoch 20/100\n",
            "\u001b[1m87/91\u001b[0m \u001b[32m━━━━━━━━━━━━━━━━━━━\u001b[0m\u001b[37m━\u001b[0m \u001b[1m0s\u001b[0m 7ms/step - loss: 0.0204\n",
            "Epoch 20: val_loss improved from 0.01026 to 0.00989, saving model to models/saved_model/weather_forecast_model.keras\n",
            "\u001b[1m91/91\u001b[0m \u001b[32m━━━━━━━━━━━━━━━━━━━━\u001b[0m\u001b[37m\u001b[0m \u001b[1m1s\u001b[0m 10ms/step - loss: 0.0204 - val_loss: 0.0099\n",
            "Epoch 21/100\n",
            "\u001b[1m91/91\u001b[0m \u001b[32m━━━━━━━━━━━━━━━━━━━━\u001b[0m\u001b[37m\u001b[0m \u001b[1m0s\u001b[0m 8ms/step - loss: 0.0203\n",
            "Epoch 21: val_loss improved from 0.00989 to 0.00974, saving model to models/saved_model/weather_forecast_model.keras\n",
            "\u001b[1m91/91\u001b[0m \u001b[32m━━━━━━━━━━━━━━━━━━━━\u001b[0m\u001b[37m\u001b[0m \u001b[1m1s\u001b[0m 10ms/step - loss: 0.0203 - val_loss: 0.0097\n",
            "Epoch 22/100\n",
            "\u001b[1m91/91\u001b[0m \u001b[32m━━━━━━━━━━━━━━━━━━━━\u001b[0m\u001b[37m\u001b[0m \u001b[1m0s\u001b[0m 6ms/step - loss: 0.0204\n",
            "Epoch 22: val_loss did not improve from 0.00974\n",
            "\u001b[1m91/91\u001b[0m \u001b[32m━━━━━━━━━━━━━━━━━━━━\u001b[0m\u001b[37m\u001b[0m \u001b[1m1s\u001b[0m 8ms/step - loss: 0.0204 - val_loss: 0.0099\n",
            "Epoch 23/100\n",
            "\u001b[1m91/91\u001b[0m \u001b[32m━━━━━━━━━━━━━━━━━━━━\u001b[0m\u001b[37m\u001b[0m \u001b[1m0s\u001b[0m 9ms/step - loss: 0.0197\n",
            "Epoch 23: val_loss did not improve from 0.00974\n",
            "\u001b[1m91/91\u001b[0m \u001b[32m━━━━━━━━━━━━━━━━━━━━\u001b[0m\u001b[37m\u001b[0m \u001b[1m2s\u001b[0m 11ms/step - loss: 0.0197 - val_loss: 0.0099\n",
            "Epoch 24/100\n",
            "\u001b[1m89/91\u001b[0m \u001b[32m━━━━━━━━━━━━━━━━━━━\u001b[0m\u001b[37m━\u001b[0m \u001b[1m0s\u001b[0m 9ms/step - loss: 0.0202\n",
            "Epoch 24: val_loss did not improve from 0.00974\n",
            "\u001b[1m91/91\u001b[0m \u001b[32m━━━━━━━━━━━━━━━━━━━━\u001b[0m\u001b[37m\u001b[0m \u001b[1m1s\u001b[0m 12ms/step - loss: 0.0202 - val_loss: 0.0102\n",
            "Epoch 25/100\n",
            "\u001b[1m87/91\u001b[0m \u001b[32m━━━━━━━━━━━━━━━━━━━\u001b[0m\u001b[37m━\u001b[0m \u001b[1m0s\u001b[0m 7ms/step - loss: 0.0191\n",
            "Epoch 25: val_loss did not improve from 0.00974\n",
            "\u001b[1m91/91\u001b[0m \u001b[32m━━━━━━━━━━━━━━━━━━━━\u001b[0m\u001b[37m\u001b[0m \u001b[1m1s\u001b[0m 9ms/step - loss: 0.0191 - val_loss: 0.0099\n",
            "Epoch 26/100\n",
            "\u001b[1m88/91\u001b[0m \u001b[32m━━━━━━━━━━━━━━━━━━━\u001b[0m\u001b[37m━\u001b[0m \u001b[1m0s\u001b[0m 7ms/step - loss: 0.0190\n",
            "Epoch 26: val_loss did not improve from 0.00974\n",
            "\u001b[1m91/91\u001b[0m \u001b[32m━━━━━━━━━━━━━━━━━━━━\u001b[0m\u001b[37m\u001b[0m \u001b[1m1s\u001b[0m 9ms/step - loss: 0.0191 - val_loss: 0.0099\n",
            "Epoch 27/100\n",
            "\u001b[1m89/91\u001b[0m \u001b[32m━━━━━━━━━━━━━━━━━━━\u001b[0m\u001b[37m━\u001b[0m \u001b[1m0s\u001b[0m 7ms/step - loss: 0.0190\n",
            "Epoch 27: val_loss did not improve from 0.00974\n",
            "\u001b[1m91/91\u001b[0m \u001b[32m━━━━━━━━━━━━━━━━━━━━\u001b[0m\u001b[37m\u001b[0m \u001b[1m1s\u001b[0m 8ms/step - loss: 0.0190 - val_loss: 0.0102\n",
            "Epoch 28/100\n",
            "\u001b[1m89/91\u001b[0m \u001b[32m━━━━━━━━━━━━━━━━━━━\u001b[0m\u001b[37m━\u001b[0m \u001b[1m0s\u001b[0m 6ms/step - loss: 0.0189\n",
            "Epoch 28: val_loss did not improve from 0.00974\n",
            "\u001b[1m91/91\u001b[0m \u001b[32m━━━━━━━━━━━━━━━━━━━━\u001b[0m\u001b[37m\u001b[0m \u001b[1m1s\u001b[0m 8ms/step - loss: 0.0189 - val_loss: 0.0103\n",
            "Epoch 29/100\n",
            "\u001b[1m89/91\u001b[0m \u001b[32m━━━━━━━━━━━━━━━━━━━\u001b[0m\u001b[37m━\u001b[0m \u001b[1m0s\u001b[0m 7ms/step - loss: 0.0190\n",
            "Epoch 29: val_loss did not improve from 0.00974\n",
            "\u001b[1m91/91\u001b[0m \u001b[32m━━━━━━━━━━━━━━━━━━━━\u001b[0m\u001b[37m\u001b[0m \u001b[1m1s\u001b[0m 8ms/step - loss: 0.0190 - val_loss: 0.0098\n",
            "Epoch 30/100\n",
            "\u001b[1m87/91\u001b[0m \u001b[32m━━━━━━━━━━━━━━━━━━━\u001b[0m\u001b[37m━\u001b[0m \u001b[1m0s\u001b[0m 7ms/step - loss: 0.0192\n",
            "Epoch 30: val_loss improved from 0.00974 to 0.00953, saving model to models/saved_model/weather_forecast_model.keras\n",
            "\u001b[1m91/91\u001b[0m \u001b[32m━━━━━━━━━━━━━━━━━━━━\u001b[0m\u001b[37m\u001b[0m \u001b[1m1s\u001b[0m 8ms/step - loss: 0.0192 - val_loss: 0.0095\n",
            "Epoch 31/100\n",
            "\u001b[1m87/91\u001b[0m \u001b[32m━━━━━━━━━━━━━━━━━━━\u001b[0m\u001b[37m━\u001b[0m \u001b[1m0s\u001b[0m 7ms/step - loss: 0.0189\n",
            "Epoch 31: val_loss did not improve from 0.00953\n",
            "\u001b[1m91/91\u001b[0m \u001b[32m━━━━━━━━━━━━━━━━━━━━\u001b[0m\u001b[37m\u001b[0m \u001b[1m1s\u001b[0m 8ms/step - loss: 0.0188 - val_loss: 0.0099\n",
            "Epoch 32/100\n",
            "\u001b[1m87/91\u001b[0m \u001b[32m━━━━━━━━━━━━━━━━━━━\u001b[0m\u001b[37m━\u001b[0m \u001b[1m0s\u001b[0m 7ms/step - loss: 0.0182\n",
            "Epoch 32: val_loss did not improve from 0.00953\n",
            "\u001b[1m91/91\u001b[0m \u001b[32m━━━━━━━━━━━━━━━━━━━━\u001b[0m\u001b[37m\u001b[0m \u001b[1m1s\u001b[0m 8ms/step - loss: 0.0182 - val_loss: 0.0096\n",
            "Epoch 33/100\n",
            "\u001b[1m87/91\u001b[0m \u001b[32m━━━━━━━━━━━━━━━━━━━\u001b[0m\u001b[37m━\u001b[0m \u001b[1m0s\u001b[0m 7ms/step - loss: 0.0179\n",
            "Epoch 33: val_loss did not improve from 0.00953\n",
            "\u001b[1m91/91\u001b[0m \u001b[32m━━━━━━━━━━━━━━━━━━━━\u001b[0m\u001b[37m\u001b[0m \u001b[1m1s\u001b[0m 8ms/step - loss: 0.0179 - val_loss: 0.0106\n",
            "Epoch 34/100\n",
            "\u001b[1m87/91\u001b[0m \u001b[32m━━━━━━━━━━━━━━━━━━━\u001b[0m\u001b[37m━\u001b[0m \u001b[1m0s\u001b[0m 7ms/step - loss: 0.0183\n",
            "Epoch 34: val_loss did not improve from 0.00953\n",
            "\u001b[1m91/91\u001b[0m \u001b[32m━━━━━━━━━━━━━━━━━━━━\u001b[0m\u001b[37m\u001b[0m \u001b[1m1s\u001b[0m 8ms/step - loss: 0.0183 - val_loss: 0.0099\n",
            "Epoch 35/100\n",
            "\u001b[1m87/91\u001b[0m \u001b[32m━━━━━━━━━━━━━━━━━━━\u001b[0m\u001b[37m━\u001b[0m \u001b[1m0s\u001b[0m 7ms/step - loss: 0.0179\n",
            "Epoch 35: val_loss did not improve from 0.00953\n",
            "\u001b[1m91/91\u001b[0m \u001b[32m━━━━━━━━━━━━━━━━━━━━\u001b[0m\u001b[37m\u001b[0m \u001b[1m1s\u001b[0m 9ms/step - loss: 0.0179 - val_loss: 0.0103\n",
            "Epoch 36/100\n",
            "\u001b[1m88/91\u001b[0m \u001b[32m━━━━━━━━━━━━━━━━━━━\u001b[0m\u001b[37m━\u001b[0m \u001b[1m0s\u001b[0m 10ms/step - loss: 0.0175\n",
            "Epoch 36: val_loss did not improve from 0.00953\n",
            "\u001b[1m91/91\u001b[0m \u001b[32m━━━━━━━━━━━━━━━━━━━━\u001b[0m\u001b[37m\u001b[0m \u001b[1m2s\u001b[0m 12ms/step - loss: 0.0175 - val_loss: 0.0098\n",
            "Epoch 37/100\n",
            "\u001b[1m86/91\u001b[0m \u001b[32m━━━━━━━━━━━━━━━━━━\u001b[0m\u001b[37m━━\u001b[0m \u001b[1m0s\u001b[0m 10ms/step - loss: 0.0171\n",
            "Epoch 37: val_loss did not improve from 0.00953\n",
            "\u001b[1m91/91\u001b[0m \u001b[32m━━━━━━━━━━━━━━━━━━━━\u001b[0m\u001b[37m\u001b[0m \u001b[1m1s\u001b[0m 11ms/step - loss: 0.0171 - val_loss: 0.0107\n",
            "Epoch 38/100\n",
            "\u001b[1m90/91\u001b[0m \u001b[32m━━━━━━━━━━━━━━━━━━━\u001b[0m\u001b[37m━\u001b[0m \u001b[1m0s\u001b[0m 6ms/step - loss: 0.0177\n",
            "Epoch 38: val_loss did not improve from 0.00953\n",
            "\u001b[1m91/91\u001b[0m \u001b[32m━━━━━━━━━━━━━━━━━━━━\u001b[0m\u001b[37m\u001b[0m \u001b[1m1s\u001b[0m 8ms/step - loss: 0.0177 - val_loss: 0.0103\n",
            "Epoch 39/100\n",
            "\u001b[1m86/91\u001b[0m \u001b[32m━━━━━━━━━━━━━━━━━━\u001b[0m\u001b[37m━━\u001b[0m \u001b[1m0s\u001b[0m 7ms/step - loss: 0.0169\n",
            "Epoch 39: val_loss did not improve from 0.00953\n",
            "\u001b[1m91/91\u001b[0m \u001b[32m━━━━━━━━━━━━━━━━━━━━\u001b[0m\u001b[37m\u001b[0m \u001b[1m1s\u001b[0m 9ms/step - loss: 0.0170 - val_loss: 0.0112\n",
            "Epoch 40/100\n",
            "\u001b[1m88/91\u001b[0m \u001b[32m━━━━━━━━━━━━━━━━━━━\u001b[0m\u001b[37m━\u001b[0m \u001b[1m0s\u001b[0m 7ms/step - loss: 0.0166\n",
            "Epoch 40: val_loss did not improve from 0.00953\n",
            "\u001b[1m91/91\u001b[0m \u001b[32m━━━━━━━━━━━━━━━━━━━━\u001b[0m\u001b[37m\u001b[0m \u001b[1m1s\u001b[0m 9ms/step - loss: 0.0166 - val_loss: 0.0103\n",
            "Epoch 40: early stopping\n",
            "Restoring model weights from the end of the best epoch: 30.\n",
            "\n",
            "Model training complete.\n"
          ]
        }
      ]
    },
    {
      "cell_type": "code",
      "source": [
        "# This section evaluates the model on the validation set and visualizes the training history.\n",
        "# We also plot the training and validation loss to check for overfitting.\n",
        "print(\"\\nEvaluating the model on the validation set...\")\n",
        "val_loss = model.evaluate(X_val, y_val, verbose=0)\n",
        "print(f\"Validation Loss (MSE): {val_loss:.4f}\")\n",
        "\n",
        "# Make predictions on the validation set to calculate additional metrics\n",
        "val_predictions_scaled = model.predict(X_val, verbose=0)\n",
        "val_actual_scaled = y_val\n",
        "\n",
        "# Reshape the data for metric calculation\n",
        "val_predictions_flat = val_predictions_scaled.reshape(-1, len(TARGET_COLS))\n",
        "val_actual_flat = val_actual_scaled.reshape(-1, len(TARGET_COLS))\n",
        "\n",
        "# Calculate MAE and R-squared\n",
        "mae = mean_absolute_error(val_actual_flat, val_predictions_flat)\n",
        "r2 = r2_score(val_actual_flat, val_predictions_flat)\n",
        "\n",
        "print(f\"Validation MAE: {mae:.4f}\")\n",
        "print(f\"Validation R-squared (R²): {r2:.4f}\")\n",
        "\n",
        "print(\"\\nGenerating and plotting performance metrics...\")\n",
        "\n",
        "train_loss = history.history['loss']\n",
        "val_loss_history = history.history['val_loss']\n",
        "epochs_ran = len(train_loss)\n",
        "\n",
        "plt.figure(figsize=(10, 6))\n",
        "plt.plot(range(epochs_ran), train_loss, label='Training Loss')\n",
        "plt.plot(range(epochs_ran), val_loss_history, label='Validation Loss')\n",
        "plt.title('Training and Validation Loss Over Epochs')\n",
        "plt.xlabel('Epochs')\n",
        "plt.ylabel('Loss')\n",
        "plt.legend()\n",
        "plt.grid(True)\n",
        "plt.show()"
      ],
      "metadata": {
        "colab": {
          "base_uri": "https://localhost:8080/",
          "height": 693
        },
        "id": "WZlkemea_Iwx",
        "outputId": "571532f6-1981-4f9c-c30e-d31264316d98"
      },
      "execution_count": 22,
      "outputs": [
        {
          "output_type": "stream",
          "name": "stdout",
          "text": [
            "\n",
            "Evaluating the model on the validation set...\n",
            "Validation Loss (MSE): 0.0095\n",
            "Validation MAE: 0.0604\n",
            "Validation R-squared (R²): 0.4968\n",
            "\n",
            "Generating and plotting performance metrics...\n"
          ]
        },
        {
          "output_type": "display_data",
          "data": {
            "text/plain": [
              "<Figure size 1000x600 with 1 Axes>"
            ],
            "image/png": "[encoded data removed]"
          },
          "metadata": {}
        }
      ]
    },
    {
      "cell_type": "code",
      "source": [
        "# Here we load the best saved model, make a prediction, and save it to the specified directory.\n",
        "print(\"\\nLoading the best model saved by ModelCheckpoint...\")\n",
        "saved_model = tf.keras.models.load_model(model_filepath)\n",
        "\n",
        "# Make a prediction on a sample from the validation set\n",
        "sample_prediction_scaled = saved_model.predict(X_val[0:1], verbose=0)\n",
        "\n",
        "# Inverse transform the prediction and the actual value to see the real numbers\n",
        "sample_prediction_actual = target_scaler.inverse_transform(sample_prediction_scaled.reshape(-1, len(TARGET_COLS)))\n",
        "sample_ground_truth_actual = target_scaler.inverse_transform(y_val[0].reshape(-1, len(TARGET_COLS)))\n",
        "\n",
        "print(\"\\n--- Sample Prediction vs. Actual Value ---\")\n",
        "print(f\"Prediction for the next {FORECAST_HORIZON} steps:\")\n",
        "pred_df = pd.DataFrame(sample_prediction_actual, columns=TARGET_COLS)\n",
        "print(pred_df)\n",
        "\n",
        "print(f\"\\nActual values for the next {FORECAST_HORIZON} steps:\")\n",
        "actual_df = pd.DataFrame(sample_ground_truth_actual, columns=TARGET_COLS)\n",
        "print(actual_df)\n",
        "\n",
        "print(f\"\\nNotebook execution finished. The model and scalers are saved in the '{MODEL_DIR}' directory.\")\n",
        "\n"
      ],
      "outputs": [
        {
          "output_type": "stream",
          "name": "stdout",
          "text": [
            "\n",
            "Loading the best model saved by ModelCheckpoint...\n",
            "\n",
            "--- Sample Prediction vs. Actual Value ---\n",
            "Prediction for the next 7 steps:\n",
            "        temp  precipitation         aqi\n",
            "0  13.103620       0.913790  241.063644\n",
            "1  10.549032       0.909692  227.097137\n",
            "2   8.748154       0.907007  240.283920\n",
            "3   9.075470       0.906281  263.536865\n",
            "4  12.363822       0.907120  250.490631\n",
            "5  17.512257       0.909731  229.330658\n",
            "6  21.626682       0.909917  230.292557\n",
            "\n",
            "Actual values for the next 7 steps:\n",
            "    temp  precipitation    aqi\n",
            "0  10.65       0.902248  259.0\n",
            "1   8.70       0.902248  282.0\n",
            "2   6.85       0.902248  302.0\n",
            "3   8.75       0.904203  327.0\n",
            "4  12.50       0.904203  325.0\n",
            "5  18.25       0.904203  280.0\n",
            "6  22.05       0.906158  254.0\n",
            "\n",
            "Notebook execution finished. The model and scalers are saved in the 'models/saved_model' directory.\n"
          ]
        }
      ],
      "execution_count": 16,
      "metadata": {
        "colab": {
          "base_uri": "https://localhost:8080/"
        },
        "id": "O3n2y5Gb9n5p",
        "outputId": "e892b75d-33c0-48d3-a71c-2cdb95c0eb11"
      }
    },
    {
      "cell_type": "code",
      "source": [
        "from google.colab import files\n",
        "files.download(\"models/saved_model/weather_forecast_model.keras\")"
      ],
      "metadata": {
        "colab": {
          "base_uri": "https://localhost:8080/",
          "height": 17
        },
        "id": "-lgrmUZcA6Af",
        "outputId": "0b7f24bb-e42f-4ad1-a13e-4d22ba45321a"
      },
      "execution_count": 19,
      "outputs": [
        {
          "output_type": "display_data",
          "data": {
            "text/plain": [
              "<IPython.core.display.Javascript object>"
            ],
            "application/javascript": [
              "\n",
              "    async function download(id, filename, size) {\n",
              "      if (!google.colab.kernel.accessAllowed) {\n",
              "        return;\n",
              "      }\n",
              "      const div = document.createElement('div');\n",
              "      const label = document.createElement('label');\n",
              "      label.textContent = `Downloading \"${filename}\": `;\n",
              "      div.appendChild(label);\n",
              "      const progress = document.createElement('progress');\n",
              "      progress.max = size;\n",
              "      div.appendChild(progress);\n",
              "      document.body.appendChild(div);\n",
              "\n",
              "      const buffers = [];\n",
              "      let downloaded = 0;\n",
              "\n",
              "      const channel = await google.colab.kernel.comms.open(id);\n",
              "      // Send a message to notify the kernel that we're ready.\n",
              "      channel.send({})\n",
              "\n",
              "      for await (const message of channel.messages) {\n",
              "        // Send a message to notify the kernel that we're ready.\n",
              "        channel.send({})\n",
              "        if (message.buffers) {\n",
              "          for (const buffer of message.buffers) {\n",
              "            buffers.push(buffer);\n",
              "            downloaded += buffer.byteLength;\n",
              "            progress.value = downloaded;\n",
              "          }\n",
              "        }\n",
              "      }\n",
              "      const blob = new Blob(buffers, {type: 'application/binary'});\n",
              "      const a = document.createElement('a');\n",
              "      a.href = window.URL.createObjectURL(blob);\n",
              "      a.download = filename;\n",
              "      div.appendChild(a);\n",
              "      a.click();\n",
              "      div.remove();\n",
              "    }\n",
              "  "
            ]
          },
          "metadata": {}
        },
        {
          "output_type": "display_data",
          "data": {
            "text/plain": [
              "<IPython.core.display.Javascript object>"
            ],
            "application/javascript": [
              "download(\"download_e88107c9-ca15-404b-9b6b-bfc422e47c82\", \"weather_forecast_model.keras\", 970866)"
            ]
          },
          "metadata": {}
        }
      ]
    }
  ],
  "metadata": {
    "colab": {
      "provenance": [],
      "gpuType": "T4"
    },
    "kernelspec": {
      "display_name": "Python 3",
      "name": "python3"
    },
    "accelerator": "GPU"
  },
  "nbformat": 4,
  "nbformat_minor": 0
}